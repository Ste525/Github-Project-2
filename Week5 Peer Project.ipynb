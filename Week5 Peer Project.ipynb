{
 "cells": [
  {
   "cell_type": "code",
   "execution_count": 40,
   "id": "e182de98",
   "metadata": {},
   "outputs": [
    {
     "name": "stdout",
     "output_type": "stream",
     "text": [
      "please enter your name: DAVID GYESI BINEY\n",
      " WELCOME DAVID GYESI BINEY TO ASANKA HOTEL\n",
      "please enter charge for food: 50\n",
      "meal_charge = $50.0\n",
      " customer_tip = $9.0\n",
      " sales_tax = $3.5\n",
      "sum_charge_of_food = $62.5\n"
     ]
    }
   ],
   "source": [
    "# ask the user to enter charge for food\n",
    "# calculate the amount of an 18 percent tip\n",
    "# 7 percent sales tax on the charge on food\n",
    "# display each of these amount\n",
    "# sum the charge of food plus tip and sales tax\n",
    "\n",
    "user = input('please enter your name: ')\n",
    "print(f' WELCOME {user} TO ASANKA HOTEL')\n",
    "\n",
    "meal_charge = float(input('please enter charge for food: '))\n",
    "print(f'meal_charge = ${meal_charge}')\n",
    "\n",
    "customer_tip = round(meal_charge*(18/100),2)\n",
    "sales_tax = round(meal_charge * (7/100),2)\n",
    "print(f' customer_tip = ${customer_tip}')\n",
    "print(f' sales_tax = ${sales_tax}')\n",
    "\n",
    "Grand_total = meal_charge + customer_tip + sales_tax \n",
    "print(f'Grand_total = ${Grand_total}')"
   ]
  },
  {
   "cell_type": "code",
   "execution_count": 10,
   "id": "3d48be1a",
   "metadata": {},
   "outputs": [
    {
     "data": {
      "text/plain": [
       "'C:\\\\Users\\\\DAVID'"
      ]
     },
     "execution_count": 10,
     "metadata": {},
     "output_type": "execute_result"
    }
   ],
   "source": [
    "%pwd\n"
   ]
  },
  {
   "cell_type": "code",
   "execution_count": null,
   "id": "507d300c",
   "metadata": {},
   "outputs": [],
   "source": []
  }
 ],
 "metadata": {
  "kernelspec": {
   "display_name": "Python 3 (ipykernel)",
   "language": "python",
   "name": "python3"
  },
  "language_info": {
   "codemirror_mode": {
    "name": "ipython",
    "version": 3
   },
   "file_extension": ".py",
   "mimetype": "text/x-python",
   "name": "python",
   "nbconvert_exporter": "python",
   "pygments_lexer": "ipython3",
   "version": "3.9.12"
  }
 },
 "nbformat": 4,
 "nbformat_minor": 5
}
